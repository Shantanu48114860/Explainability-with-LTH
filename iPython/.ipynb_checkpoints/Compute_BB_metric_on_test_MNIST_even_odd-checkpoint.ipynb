{
 "cells": [
  {
   "cell_type": "code",
   "execution_count": 18,
   "metadata": {},
   "outputs": [],
   "source": [
    "import os\n",
    "import numpy as np\n",
    "import sklearn.metrics as metrics"
   ]
  },
  {
   "cell_type": "code",
   "execution_count": 2,
   "metadata": {},
   "outputs": [],
   "source": [
    "model_arch = \"Resnet_18\"\n",
    "pretrained = False\n",
    "transfer_learning = False\n",
    "logs = \"/ocean/projects/asc170022p/shg121/PhD/Project_Pruning/output\"\n",
    "dataset_name = \"mnist\""
   ]
  },
  {
   "cell_type": "code",
   "execution_count": 8,
   "metadata": {},
   "outputs": [
    {
     "data": {
      "text/plain": [
       "((60000, 1), (60000, 1))"
      ]
     },
     "execution_count": 8,
     "metadata": {},
     "output_type": "execute_result"
    }
   ],
   "source": [
    "output_path = os.path.join(logs, \"predictions\", \"BB\", model_arch, dataset_name)\n",
    "out_put_GT = os.path.join(output_path, \"out_put_GT.npy\")\n",
    "out_put_predict = os.path.join(output_path, \"out_put_predict_np.npy\")\n",
    "\n",
    "out_put_GT_np = np.load(out_put_GT_np)\n",
    "out_put_predict_np = np.load(out_put_predict_np)\n",
    "out_put_GT_np.shape, out_put_predict_np.shape"
   ]
  },
  {
   "cell_type": "code",
   "execution_count": 9,
   "metadata": {},
   "outputs": [
    {
     "data": {
      "text/plain": [
       "(array([[0.],\n",
       "        [0.],\n",
       "        [0.],\n",
       "        [0.],\n",
       "        [0.]], dtype=float32),\n",
       " array([[1.0401209e-08],\n",
       "        [9.2817742e-10],\n",
       "        [3.1363789e-10],\n",
       "        [1.0522374e-07],\n",
       "        [3.9168695e-09]], dtype=float32))"
      ]
     },
     "execution_count": 9,
     "metadata": {},
     "output_type": "execute_result"
    }
   ],
   "source": [
    "out_put_GT_np[0:5], out_put_predict_np[0:5]"
   ]
  },
  {
   "cell_type": "code",
   "execution_count": 13,
   "metadata": {},
   "outputs": [
    {
     "data": {
      "text/plain": [
       "array([[0],\n",
       "       [0],\n",
       "       [0],\n",
       "       ...,\n",
       "       [1],\n",
       "       [1],\n",
       "       [1]])"
      ]
     },
     "execution_count": 13,
     "metadata": {},
     "output_type": "execute_result"
    }
   ],
   "source": [
    "y_hat = np.where(out_put_predict_np > 0.5, 1, 0)\n",
    "y_hat"
   ]
  },
  {
   "cell_type": "code",
   "execution_count": 22,
   "metadata": {},
   "outputs": [],
   "source": [
    "roc = metrics.roc_auc_score(out_put_GT_np, out_put_predict_np)\n",
    "roc"
   ]
  },
  {
   "cell_type": "code",
   "execution_count": 14,
   "metadata": {},
   "outputs": [],
   "source": [
    "def calc_metrics(label, out):\n",
    "    acc = metrics.accuracy_score(label, out)\n",
    "    precision = metrics.precision_score(label,out)\n",
    "    recall = metrics.recall_score(label,out)\n",
    "    f1 = metrics.f1_score(label,out)\n",
    "    mcc = metrics.matthews_corrcoef(label, out)\n",
    "    return acc, precision, recall, f1, mcc"
   ]
  },
  {
   "cell_type": "code",
   "execution_count": 20,
   "metadata": {},
   "outputs": [
    {
     "data": {
      "text/plain": [
       "(0.9948333333333333,\n",
       " 0.9985471835171367,\n",
       " 0.9912809754818408,\n",
       " 0.9949008125801888,\n",
       " 0.9896921051678779)"
      ]
     },
     "execution_count": 20,
     "metadata": {},
     "output_type": "execute_result"
    }
   ],
   "source": [
    "acc, precision, recall, f1, mcc = calc_metrics(out_put_GT_np, y_hat)\n",
    "acc, precision, recall, f1, mcc"
   ]
  }
 ],
 "metadata": {
  "kernelspec": {
   "display_name": "python_3_7",
   "language": "python",
   "name": "python_3_7"
  },
  "language_info": {
   "codemirror_mode": {
    "name": "ipython",
    "version": 3
   },
   "file_extension": ".py",
   "mimetype": "text/x-python",
   "name": "python",
   "nbconvert_exporter": "python",
   "pygments_lexer": "ipython3",
   "version": "3.7.11"
  }
 },
 "nbformat": 4,
 "nbformat_minor": 4
}

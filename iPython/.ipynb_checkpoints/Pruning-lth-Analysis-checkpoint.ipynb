{
 "cells": [
  {
   "cell_type": "code",
   "execution_count": 20,
   "metadata": {},
   "outputs": [],
   "source": [
    "import os\n",
    "import sys\n",
    "sys.path.append(os.path.abspath(\"/ocean/projects/asc170022p/shg121/PhD/Project_Pruning\"))\n",
    "import h5py\n",
    "import pickle\n",
    "from sklearn.utils import shuffle\n",
    "import numpy as np\n",
    "from sklearn import metrics\n",
    "from sklearn.linear_model import LogisticRegression\n",
    "from tqdm import tqdm\n",
    "import time\n",
    "import pickle\n",
    "\n",
    "import torch\n",
    "from torch.utils.data import DataLoader\n",
    "from torchvision import transforms\n",
    "\n",
    "import utils\n",
    "from model_factory.models import Classifier\n",
    "from model_factory.model_meta import Model_Meta\n",
    "from dataset.dataset_utils import get_dataset_with_attributes, get_transforms\n",
    "from dataset.dataset_attributes_mnist import Dataset_attributes_mnist\n",
    "\n",
    "import matplotlib.pyplot as plt\n"
   ]
  },
  {
   "cell_type": "code",
   "execution_count": 2,
   "metadata": {},
   "outputs": [
    {
     "name": "stdout",
     "output_type": "stream",
     "text": [
      "Device: cuda\n"
     ]
    }
   ],
   "source": [
    "seed = 0\n",
    "device = utils.get_device()\n",
    "print(f\"Device: {device}\")\n",
    "data_root = \"/ocean/projects/asc170022p/shg121/PhD/Project_Pruning/data/MNIST_EVEN_ODD\"\n",
    "json_root = \"/ocean/projects/asc170022p/shg121/PhD/Project_Pruning/scripts_data\"\n",
    "model_arch = \"Resnet_18\"\n",
    "dataset_name = \"mnist\"\n",
    "pretrained = True\n",
    "transfer_learning = False\n",
    "chk_pt_path = \"seq_epoch_20.pth.tar\"\n",
    "num_classes = 1\n",
    "logs = \"/ocean/projects/asc170022p/shg121/PhD/Project_Pruning/output\"\n",
    "bb_layer = \"layer3\"  # layer3\n",
    "concept_names = [\"Zero\", \"One\", \"Two\", \"Three\", \"Four\", \"Five\", \"Six\", \"Seven\", \"Eight\", \"Nine\"]\n",
    "img_size = 224\n",
    "batch_size = 3\n",
    "epochs = 50\n",
    "num_workers = 4\n",
    "class_list = [0, 1]\n",
    "num_labels = len(class_list)\n",
    "cav_vector_file = \"max_pooled_train_cavs.pkl\"\n",
    "kernel_size={\n",
    "    \"layer3\": 14,\n",
    "    \"layer4\": 7\n",
    "}\n",
    "\n",
    "prune_type = \"lt\"\n",
    "lr = 1e-3\n",
    "ITERATION  = 35\n",
    "prune_percent = 10\n",
    "start_iter = 0\n",
    "end_iter = 100\n",
    "resample = False\n",
    "reinit = True if prune_type==\"reinit\" else False\n"
   ]
  },
  {
   "cell_type": "code",
   "execution_count": 14,
   "metadata": {},
   "outputs": [],
   "source": [
    "prune_stats_file_name = \"prune_stats_for_prune_typelt.pkl\"\n",
    "checkpoint_path = os.path.join(logs, \"chk_pt\", \"Pruning\", model_arch, dataset_name)\n",
    "prune_stat_path = os.path.join(checkpoint_path, \"prune-statistics\", \"train\")\n",
    "\n",
    "percent_weight_remaining = np.array([100.,   90.,   81.,   72.9,  65.6,  59.1,  53.2,  47.8,  43.1,  38.8,  34.9,  31.4,\n",
    "  28.3,  25.4,  22.9,  20.6,  18.6,  16.7,  15.,   13.5,  12.2,  11.,    9.9,   8.9,\n",
    "   8.,    7.2,   6.5,   5.9,   5.3,   4.7,   4.3,   3.9,   3.5,   3.1,   2.8,])"
   ]
  },
  {
   "cell_type": "code",
   "execution_count": 13,
   "metadata": {},
   "outputs": [
    {
     "name": "stdout",
     "output_type": "stream",
     "text": [
      "35\n",
      "{'all_train_loss': array([0.00168175, 0.0006753 , 0.00050492, 0.0004642 , 0.00037938,\n",
      "       0.00033487, 0.00032308, 0.00033529, 0.00033575, 0.00035247,\n",
      "       0.00034816, 0.00038782]), 'all_train_accuracy': array([91.33958333, 96.91458333, 97.90416667, 97.98333333, 98.35833333,\n",
      "       98.57916667, 98.62708333, 98.58541667, 98.54166667, 98.46458333,\n",
      "       98.50208333, 98.27083333]), 'all_val_loss': array([0.00541195, 0.00596312, 0.00088908, 0.00107649, 0.00071308,\n",
      "       0.00074791, 0.0019027 , 0.00108342, 0.06865017, 0.00054356,\n",
      "       0.00132928, 0.00035904]), 'all_val_accuracy': array([50.85      , 52.30833333, 96.325     , 95.95      , 97.49166667,\n",
      "       96.88333333, 91.50833333, 95.55      , 49.74166667, 98.48333333,\n",
      "       95.15      , 98.46666667]), 'best_accuracy': 98.48333333333333}\n"
     ]
    }
   ],
   "source": [
    "prune_stats_file = open(\n",
    "        os.path.join(prune_stat_path, prune_stats_file_name),\n",
    "        \"rb\")\n",
    "prune_stats = pickle.load(prune_stats_file)\n",
    "print(len(prune_stats))\n",
    "print(prune_stats[0])"
   ]
  },
  {
   "cell_type": "code",
   "execution_count": 17,
   "metadata": {},
   "outputs": [
    {
     "data": {
      "text/plain": [
       "array([98.48333333, 96.90833333, 97.09166667, 95.5       , 98.20833333,\n",
       "       98.43333333, 97.30833333, 97.63333333, 97.54166667, 87.85      ,\n",
       "       96.34166667, 96.44166667, 93.        , 96.03333333, 95.60833333,\n",
       "       94.9       , 91.725     , 96.05833333, 94.075     , 92.725     ,\n",
       "       84.23333333, 93.90833333, 87.44166667, 68.08333333, 82.375     ,\n",
       "       72.23333333, 86.40833333, 74.5       , 78.20833333, 63.21666667,\n",
       "       52.65833333, 51.55      , 58.6       , 50.85      , 50.85      ])"
      ]
     },
     "execution_count": 17,
     "metadata": {},
     "output_type": "execute_result"
    }
   ],
   "source": [
    "best_acc_arr = []\n",
    "for stats in prune_stats:\n",
    "    best_acc_arr.append(stats['best_accuracy'])\n",
    "\n",
    "\n",
    "np_best_acc_arr = np.array(best_acc_arr)\n",
    "\n",
    "np_best_acc_arr"
   ]
  },
  {
   "cell_type": "code",
   "execution_count": 42,
   "metadata": {},
   "outputs": [
    {
     "name": "stdout",
     "output_type": "stream",
     "text": [
      "plots-path directory is created successfully at:\n",
      "/ocean/projects/asc170022p/shg121/PhD/Project_Pruning/output/chk_pt/Pruning/Resnet_18/mnist/plots\n"
     ]
    }
   ],
   "source": [
    "plot_path = os.path.join(logs, \"chk_pt\", \"Pruning\", model_arch, dataset_name, \"plots\")\n",
    "utils.create_dir({\n",
    "    \"path_name\": plot_path,\n",
    "    \"path_type\": \"plots-path\"\n",
    "})"
   ]
  },
  {
   "cell_type": "code",
   "execution_count": 44,
   "metadata": {},
   "outputs": [],
   "source": [
    "a = np.arange(len(best_acc_arr))\n",
    "plt.plot(a, np_best_acc_arr, c=\"blue\", label=\"Winning tickets\") \n",
    "plt.title(f\"Test Accuracy vs Unpruned Weights Percentage ({dataset_name}, {model_arch})\") \n",
    "plt.xlabel(\"Unpruned Weights Percentage\") \n",
    "plt.ylabel(\"Val accuracy\") \n",
    "plt.xticks(a, percent_weight_remaining, rotation =\"vertical\") \n",
    "\n",
    "plt.ylim(50, 100)\n",
    "plt.legend() \n",
    "plt.grid(color=\"gray\") \n",
    "plt.savefig(f\"{plot_path}/{prune_type}_val_Accuracy_Vs_Weights.png\", dpi=1200) \n",
    "plt.show()\n",
    "plt.close()"
   ]
  },
  {
   "cell_type": "code",
   "execution_count": null,
   "metadata": {},
   "outputs": [],
   "source": []
  }
 ],
 "metadata": {
  "kernelspec": {
   "display_name": "python_3_7",
   "language": "python",
   "name": "python_3_7"
  },
  "language_info": {
   "codemirror_mode": {
    "name": "ipython",
    "version": 3
   },
   "file_extension": ".py",
   "mimetype": "text/x-python",
   "name": "python",
   "nbconvert_exporter": "python",
   "pygments_lexer": "ipython3",
   "version": "3.7.11"
  }
 },
 "nbformat": 4,
 "nbformat_minor": 4
}
